{
 "cells": [
  {
   "cell_type": "markdown",
   "metadata": {},
   "source": [
    "# BUNDAS ANALYSIS"
   ]
  },
  {
   "cell_type": "markdown",
   "metadata": {},
   "source": [
    "# Group Members\n",
    "- Jeovine Oruko\n",
    "- Dennis Ogunde\n",
    "- Thiga Mureithi\n",
    "- Brenda Cherono"
   ]
  },
  {
   "cell_type": "code",
   "execution_count": 1,
   "metadata": {},
   "outputs": [],
   "source": [
    "import pandas as pd\n",
    "import matplotlib.pyplot as plt\n",
    "%matplotlib inline\n",
    "import seaborn as sns\n",
    "from sklearn.feature_selection import chi2\n",
    "from sklearn.feature_selection import f_regression\n",
    "from sklearn.feature_selection import f_classif\n",
    "from sklearn.preprocessing import OneHotEncoder\n",
    "from sklearn.preprocessing import LabelEncoder\n",
    "from sklearn.preprocessing import OrdinalEncoder\n",
    "from sklearn.model_selection import train_test_split\n",
    "from sklearn import linear_model\n",
    "from sklearn.metrics import mean_squared_error\n",
    "from sklearn.metrics import r2_score\n",
    "from sklearn.metrics import accuracy_score"
   ]
  },
  {
   "cell_type": "code",
   "execution_count": 2,
   "metadata": {
    "scrolled": true
   },
   "outputs": [
    {
     "data": {
      "text/html": [
       "<div>\n",
       "<style scoped>\n",
       "    .dataframe tbody tr th:only-of-type {\n",
       "        vertical-align: middle;\n",
       "    }\n",
       "\n",
       "    .dataframe tbody tr th {\n",
       "        vertical-align: top;\n",
       "    }\n",
       "\n",
       "    .dataframe thead th {\n",
       "        text-align: right;\n",
       "    }\n",
       "</style>\n",
       "<table border=\"1\" class=\"dataframe\">\n",
       "  <thead>\n",
       "    <tr style=\"text-align: right;\">\n",
       "      <th></th>\n",
       "      <th>Item_ID</th>\n",
       "      <th>Weight</th>\n",
       "      <th>FatContent</th>\n",
       "      <th>Visibility</th>\n",
       "      <th>Category</th>\n",
       "      <th>Max_Price</th>\n",
       "      <th>Store_ID</th>\n",
       "      <th>Store_Establishment_Year</th>\n",
       "      <th>Store_Size</th>\n",
       "      <th>Store_Location_Type</th>\n",
       "      <th>Store_Type</th>\n",
       "      <th>Item_Store_Sales</th>\n",
       "    </tr>\n",
       "  </thead>\n",
       "  <tbody>\n",
       "    <tr>\n",
       "      <th>0</th>\n",
       "      <td>FDA15</td>\n",
       "      <td>9.30</td>\n",
       "      <td>Low Fat</td>\n",
       "      <td>0.016047</td>\n",
       "      <td>Dairy</td>\n",
       "      <td>249.8092</td>\n",
       "      <td>OUT049</td>\n",
       "      <td>1999</td>\n",
       "      <td>Medium</td>\n",
       "      <td>Tier 1</td>\n",
       "      <td>Supermarket Type1</td>\n",
       "      <td>3735.1380</td>\n",
       "    </tr>\n",
       "    <tr>\n",
       "      <th>1</th>\n",
       "      <td>DRC01</td>\n",
       "      <td>5.92</td>\n",
       "      <td>Regular</td>\n",
       "      <td>0.019278</td>\n",
       "      <td>Soft Drinks</td>\n",
       "      <td>48.2692</td>\n",
       "      <td>OUT018</td>\n",
       "      <td>2009</td>\n",
       "      <td>Medium</td>\n",
       "      <td>Tier 3</td>\n",
       "      <td>Supermarket Type2</td>\n",
       "      <td>443.4228</td>\n",
       "    </tr>\n",
       "    <tr>\n",
       "      <th>2</th>\n",
       "      <td>FDN15</td>\n",
       "      <td>17.50</td>\n",
       "      <td>Low Fat</td>\n",
       "      <td>0.016760</td>\n",
       "      <td>Meat</td>\n",
       "      <td>141.6180</td>\n",
       "      <td>OUT049</td>\n",
       "      <td>1999</td>\n",
       "      <td>Medium</td>\n",
       "      <td>Tier 1</td>\n",
       "      <td>Supermarket Type1</td>\n",
       "      <td>2097.2700</td>\n",
       "    </tr>\n",
       "    <tr>\n",
       "      <th>3</th>\n",
       "      <td>FDX07</td>\n",
       "      <td>19.20</td>\n",
       "      <td>Regular</td>\n",
       "      <td>0.000000</td>\n",
       "      <td>Fruits and Vegetables</td>\n",
       "      <td>182.0950</td>\n",
       "      <td>OUT010</td>\n",
       "      <td>1998</td>\n",
       "      <td>NaN</td>\n",
       "      <td>Tier 3</td>\n",
       "      <td>Grocery Store</td>\n",
       "      <td>732.3800</td>\n",
       "    </tr>\n",
       "    <tr>\n",
       "      <th>4</th>\n",
       "      <td>NCD19</td>\n",
       "      <td>8.93</td>\n",
       "      <td>Low Fat</td>\n",
       "      <td>0.000000</td>\n",
       "      <td>Household</td>\n",
       "      <td>53.8614</td>\n",
       "      <td>OUT013</td>\n",
       "      <td>1987</td>\n",
       "      <td>High</td>\n",
       "      <td>Tier 3</td>\n",
       "      <td>Supermarket Type1</td>\n",
       "      <td>994.7052</td>\n",
       "    </tr>\n",
       "  </tbody>\n",
       "</table>\n",
       "</div>"
      ],
      "text/plain": [
       "  Item_ID  Weight FatContent  Visibility               Category  Max_Price  \\\n",
       "0   FDA15    9.30    Low Fat    0.016047                  Dairy   249.8092   \n",
       "1   DRC01    5.92    Regular    0.019278            Soft Drinks    48.2692   \n",
       "2   FDN15   17.50    Low Fat    0.016760                   Meat   141.6180   \n",
       "3   FDX07   19.20    Regular    0.000000  Fruits and Vegetables   182.0950   \n",
       "4   NCD19    8.93    Low Fat    0.000000              Household    53.8614   \n",
       "\n",
       "  Store_ID  Store_Establishment_Year Store_Size Store_Location_Type  \\\n",
       "0   OUT049                      1999     Medium              Tier 1   \n",
       "1   OUT018                      2009     Medium              Tier 3   \n",
       "2   OUT049                      1999     Medium              Tier 1   \n",
       "3   OUT010                      1998        NaN              Tier 3   \n",
       "4   OUT013                      1987       High              Tier 3   \n",
       "\n",
       "          Store_Type  Item_Store_Sales  \n",
       "0  Supermarket Type1         3735.1380  \n",
       "1  Supermarket Type2          443.4228  \n",
       "2  Supermarket Type1         2097.2700  \n",
       "3      Grocery Store          732.3800  \n",
       "4  Supermarket Type1          994.7052  "
      ]
     },
     "execution_count": 2,
     "metadata": {},
     "output_type": "execute_result"
    }
   ],
   "source": [
    "bundas_train = pd.read_csv(\"bundas_train.csv\")\n",
    "bundas_train.head()"
   ]
  },
  {
   "cell_type": "code",
   "execution_count": 3,
   "metadata": {},
   "outputs": [
    {
     "data": {
      "text/html": [
       "<div>\n",
       "<style scoped>\n",
       "    .dataframe tbody tr th:only-of-type {\n",
       "        vertical-align: middle;\n",
       "    }\n",
       "\n",
       "    .dataframe tbody tr th {\n",
       "        vertical-align: top;\n",
       "    }\n",
       "\n",
       "    .dataframe thead th {\n",
       "        text-align: right;\n",
       "    }\n",
       "</style>\n",
       "<table border=\"1\" class=\"dataframe\">\n",
       "  <thead>\n",
       "    <tr style=\"text-align: right;\">\n",
       "      <th></th>\n",
       "      <th>Item_ID</th>\n",
       "      <th>FatContent</th>\n",
       "      <th>Category</th>\n",
       "      <th>Store_ID</th>\n",
       "      <th>Store_Size</th>\n",
       "      <th>Store_Location_Type</th>\n",
       "      <th>Store_Type</th>\n",
       "    </tr>\n",
       "  </thead>\n",
       "  <tbody>\n",
       "    <tr>\n",
       "      <th>count</th>\n",
       "      <td>8523</td>\n",
       "      <td>8523</td>\n",
       "      <td>8523</td>\n",
       "      <td>8523</td>\n",
       "      <td>6113</td>\n",
       "      <td>8523</td>\n",
       "      <td>8523</td>\n",
       "    </tr>\n",
       "    <tr>\n",
       "      <th>unique</th>\n",
       "      <td>1559</td>\n",
       "      <td>5</td>\n",
       "      <td>16</td>\n",
       "      <td>10</td>\n",
       "      <td>3</td>\n",
       "      <td>3</td>\n",
       "      <td>4</td>\n",
       "    </tr>\n",
       "    <tr>\n",
       "      <th>top</th>\n",
       "      <td>FDG33</td>\n",
       "      <td>Low Fat</td>\n",
       "      <td>Fruits and Vegetables</td>\n",
       "      <td>OUT027</td>\n",
       "      <td>Medium</td>\n",
       "      <td>Tier 3</td>\n",
       "      <td>Supermarket Type1</td>\n",
       "    </tr>\n",
       "    <tr>\n",
       "      <th>freq</th>\n",
       "      <td>10</td>\n",
       "      <td>5089</td>\n",
       "      <td>1232</td>\n",
       "      <td>935</td>\n",
       "      <td>2793</td>\n",
       "      <td>3350</td>\n",
       "      <td>5577</td>\n",
       "    </tr>\n",
       "  </tbody>\n",
       "</table>\n",
       "</div>"
      ],
      "text/plain": [
       "       Item_ID FatContent               Category Store_ID Store_Size  \\\n",
       "count     8523       8523                   8523     8523       6113   \n",
       "unique    1559          5                     16       10          3   \n",
       "top      FDG33    Low Fat  Fruits and Vegetables   OUT027     Medium   \n",
       "freq        10       5089                   1232      935       2793   \n",
       "\n",
       "       Store_Location_Type         Store_Type  \n",
       "count                 8523               8523  \n",
       "unique                   3                  4  \n",
       "top                 Tier 3  Supermarket Type1  \n",
       "freq                  3350               5577  "
      ]
     },
     "execution_count": 3,
     "metadata": {},
     "output_type": "execute_result"
    }
   ],
   "source": [
    "bundas_train.describe(include='object')"
   ]
  },
  {
   "cell_type": "code",
   "execution_count": 4,
   "metadata": {},
   "outputs": [
    {
     "name": "stdout",
     "output_type": "stream",
     "text": [
      "<class 'pandas.core.frame.DataFrame'>\n",
      "RangeIndex: 8523 entries, 0 to 8522\n",
      "Data columns (total 12 columns):\n",
      "Item_ID                     8523 non-null object\n",
      "Weight                      7060 non-null float64\n",
      "FatContent                  8523 non-null object\n",
      "Visibility                  8523 non-null float64\n",
      "Category                    8523 non-null object\n",
      "Max_Price                   8523 non-null float64\n",
      "Store_ID                    8523 non-null object\n",
      "Store_Establishment_Year    8523 non-null int64\n",
      "Store_Size                  6113 non-null object\n",
      "Store_Location_Type         8523 non-null object\n",
      "Store_Type                  8523 non-null object\n",
      "Item_Store_Sales            8523 non-null float64\n",
      "dtypes: float64(4), int64(1), object(7)\n",
      "memory usage: 799.1+ KB\n"
     ]
    }
   ],
   "source": [
    "bundas_train.info()"
   ]
  },
  {
   "cell_type": "code",
   "execution_count": 5,
   "metadata": {},
   "outputs": [
    {
     "data": {
      "text/plain": [
       "(8523, 12)"
      ]
     },
     "execution_count": 5,
     "metadata": {},
     "output_type": "execute_result"
    }
   ],
   "source": [
    "bundas_train.shape"
   ]
  },
  {
   "cell_type": "code",
   "execution_count": 6,
   "metadata": {
    "scrolled": true
   },
   "outputs": [
    {
     "data": {
      "text/html": [
       "<div>\n",
       "<style scoped>\n",
       "    .dataframe tbody tr th:only-of-type {\n",
       "        vertical-align: middle;\n",
       "    }\n",
       "\n",
       "    .dataframe tbody tr th {\n",
       "        vertical-align: top;\n",
       "    }\n",
       "\n",
       "    .dataframe thead th {\n",
       "        text-align: right;\n",
       "    }\n",
       "</style>\n",
       "<table border=\"1\" class=\"dataframe\">\n",
       "  <thead>\n",
       "    <tr style=\"text-align: right;\">\n",
       "      <th></th>\n",
       "      <th>Weight</th>\n",
       "      <th>Visibility</th>\n",
       "      <th>Max_Price</th>\n",
       "      <th>Store_Establishment_Year</th>\n",
       "      <th>Item_Store_Sales</th>\n",
       "    </tr>\n",
       "  </thead>\n",
       "  <tbody>\n",
       "    <tr>\n",
       "      <th>Weight</th>\n",
       "      <td>1.000000</td>\n",
       "      <td>-0.014048</td>\n",
       "      <td>0.027141</td>\n",
       "      <td>-0.011588</td>\n",
       "      <td>0.014123</td>\n",
       "    </tr>\n",
       "    <tr>\n",
       "      <th>Visibility</th>\n",
       "      <td>-0.014048</td>\n",
       "      <td>1.000000</td>\n",
       "      <td>-0.001315</td>\n",
       "      <td>-0.074834</td>\n",
       "      <td>-0.128625</td>\n",
       "    </tr>\n",
       "    <tr>\n",
       "      <th>Max_Price</th>\n",
       "      <td>0.027141</td>\n",
       "      <td>-0.001315</td>\n",
       "      <td>1.000000</td>\n",
       "      <td>0.005020</td>\n",
       "      <td>0.567574</td>\n",
       "    </tr>\n",
       "    <tr>\n",
       "      <th>Store_Establishment_Year</th>\n",
       "      <td>-0.011588</td>\n",
       "      <td>-0.074834</td>\n",
       "      <td>0.005020</td>\n",
       "      <td>1.000000</td>\n",
       "      <td>-0.049135</td>\n",
       "    </tr>\n",
       "    <tr>\n",
       "      <th>Item_Store_Sales</th>\n",
       "      <td>0.014123</td>\n",
       "      <td>-0.128625</td>\n",
       "      <td>0.567574</td>\n",
       "      <td>-0.049135</td>\n",
       "      <td>1.000000</td>\n",
       "    </tr>\n",
       "  </tbody>\n",
       "</table>\n",
       "</div>"
      ],
      "text/plain": [
       "                            Weight  Visibility  Max_Price  \\\n",
       "Weight                    1.000000   -0.014048   0.027141   \n",
       "Visibility               -0.014048    1.000000  -0.001315   \n",
       "Max_Price                 0.027141   -0.001315   1.000000   \n",
       "Store_Establishment_Year -0.011588   -0.074834   0.005020   \n",
       "Item_Store_Sales          0.014123   -0.128625   0.567574   \n",
       "\n",
       "                          Store_Establishment_Year  Item_Store_Sales  \n",
       "Weight                                   -0.011588          0.014123  \n",
       "Visibility                               -0.074834         -0.128625  \n",
       "Max_Price                                 0.005020          0.567574  \n",
       "Store_Establishment_Year                  1.000000         -0.049135  \n",
       "Item_Store_Sales                         -0.049135          1.000000  "
      ]
     },
     "execution_count": 6,
     "metadata": {},
     "output_type": "execute_result"
    }
   ],
   "source": [
    "bundas_train.corr()"
   ]
  },
  {
   "cell_type": "markdown",
   "metadata": {},
   "source": [
    "### Of the continuous variables, only Max_Price has a reasonably strong correlation with the target variable Item_Store_Sales"
   ]
  },
  {
   "cell_type": "code",
   "execution_count": 7,
   "metadata": {
    "scrolled": true
   },
   "outputs": [
    {
     "data": {
      "text/plain": [
       "Text(0, 0.5, 'Item Store Sales')"
      ]
     },
     "execution_count": 7,
     "metadata": {},
     "output_type": "execute_result"
    },
    {
     "data": {
      "image/png": "[encoded data removed]",
      "text/plain": [
       "<Figure size 432x288 with 1 Axes>"
      ]
     },
     "metadata": {
      "needs_background": "light"
     },
     "output_type": "display_data"
    }
   ],
   "source": [
    "plt.title(\"Correlation between Max Price and Item Store Sales\")\n",
    "plt.scatter(x = bundas_train['Max_Price'], y = bundas_train['Item_Store_Sales'], c = 'Purple')\n",
    "plt.xlabel('Max Price')\n",
    "plt.ylabel('Item Store Sales')"
   ]
  },
  {
   "cell_type": "markdown",
   "metadata": {},
   "source": [
    "## Data Cleaning"
   ]
  },
  {
   "cell_type": "code",
   "execution_count": 8,
   "metadata": {},
   "outputs": [
    {
     "data": {
      "text/plain": [
       "Item_ID                     False\n",
       "Weight                       True\n",
       "FatContent                  False\n",
       "Visibility                  False\n",
       "Category                    False\n",
       "Max_Price                   False\n",
       "Store_ID                    False\n",
       "Store_Establishment_Year    False\n",
       "Store_Size                   True\n",
       "Store_Location_Type         False\n",
       "Store_Type                  False\n",
       "Item_Store_Sales            False\n",
       "dtype: bool"
      ]
     },
     "execution_count": 8,
     "metadata": {},
     "output_type": "execute_result"
    }
   ],
   "source": [
    "bundas_train.isnull().any()"
   ]
  },
  {
   "cell_type": "markdown",
   "metadata": {},
   "source": [
    "### Weight and Store Size columns have missing data"
   ]
  },
  {
   "cell_type": "code",
   "execution_count": 9,
   "metadata": {
    "scrolled": true
   },
   "outputs": [
    {
     "data": {
      "text/plain": [
       "Item_ID                        0\n",
       "Weight                      1463\n",
       "FatContent                     0\n",
       "Visibility                     0\n",
       "Category                       0\n",
       "Max_Price                      0\n",
       "Store_ID                       0\n",
       "Store_Establishment_Year       0\n",
       "Store_Size                  2410\n",
       "Store_Location_Type            0\n",
       "Store_Type                     0\n",
       "Item_Store_Sales               0\n",
       "dtype: int64"
      ]
     },
     "execution_count": 9,
     "metadata": {},
     "output_type": "execute_result"
    }
   ],
   "source": [
    "bundas_train.isnull().sum()"
   ]
  },
  {
   "cell_type": "code",
   "execution_count": 10,
   "metadata": {},
   "outputs": [
    {
     "data": {
      "text/html": [
       "<div>\n",
       "<style scoped>\n",
       "    .dataframe tbody tr th:only-of-type {\n",
       "        vertical-align: middle;\n",
       "    }\n",
       "\n",
       "    .dataframe tbody tr th {\n",
       "        vertical-align: top;\n",
       "    }\n",
       "\n",
       "    .dataframe thead th {\n",
       "        text-align: right;\n",
       "    }\n",
       "</style>\n",
       "<table border=\"1\" class=\"dataframe\">\n",
       "  <thead>\n",
       "    <tr style=\"text-align: right;\">\n",
       "      <th></th>\n",
       "      <th>Store_Size</th>\n",
       "    </tr>\n",
       "  </thead>\n",
       "  <tbody>\n",
       "    <tr>\n",
       "      <th>0</th>\n",
       "      <td>Medium</td>\n",
       "    </tr>\n",
       "  </tbody>\n",
       "</table>\n",
       "</div>"
      ],
      "text/plain": [
       "  Store_Size\n",
       "0     Medium"
      ]
     },
     "execution_count": 10,
     "metadata": {},
     "output_type": "execute_result"
    }
   ],
   "source": [
    "bundas_train[['Store_Size']].mode()"
   ]
  },
  {
   "cell_type": "markdown",
   "metadata": {},
   "source": [
    "### Fill null values in Store Size column with 'Unknown'"
   ]
  },
  {
   "cell_type": "code",
   "execution_count": 11,
   "metadata": {},
   "outputs": [],
   "source": [
    "bundas_train['Store_Size'] = bundas_train.Store_Size.fillna('Unknown')"
   ]
  },
  {
   "cell_type": "markdown",
   "metadata": {},
   "source": [
    "### Null values in Store Size columns have been dealt with by assigning 'Unknown' to them."
   ]
  },
  {
   "cell_type": "code",
   "execution_count": 12,
   "metadata": {
    "scrolled": true
   },
   "outputs": [
    {
     "data": {
      "text/plain": [
       "Store_Size    0\n",
       "dtype: int64"
      ]
     },
     "execution_count": 12,
     "metadata": {},
     "output_type": "execute_result"
    }
   ],
   "source": [
    "bundas_train[['Store_Size']].isnull().sum()"
   ]
  },
  {
   "cell_type": "code",
   "execution_count": 13,
   "metadata": {},
   "outputs": [
    {
     "data": {
      "text/plain": [
       "12.857645184136183"
      ]
     },
     "execution_count": 13,
     "metadata": {},
     "output_type": "execute_result"
    }
   ],
   "source": [
    "weight = bundas_train[['Weight']]\n",
    "float(weight.mean())"
   ]
  },
  {
   "cell_type": "markdown",
   "metadata": {},
   "source": [
    "### Fill null values in Weight column with the mean which is 12.857645"
   ]
  },
  {
   "cell_type": "code",
   "execution_count": 14,
   "metadata": {},
   "outputs": [],
   "source": [
    "bundas_train[['Weight']] = bundas_train.Weight.fillna(float(weight.mean()))"
   ]
  },
  {
   "cell_type": "code",
   "execution_count": 15,
   "metadata": {},
   "outputs": [
    {
     "data": {
      "text/plain": [
       "Weight    0\n",
       "dtype: int64"
      ]
     },
     "execution_count": 15,
     "metadata": {},
     "output_type": "execute_result"
    }
   ],
   "source": [
    "bundas_train[['Weight']].isnull().sum()"
   ]
  },
  {
   "cell_type": "code",
   "execution_count": 16,
   "metadata": {},
   "outputs": [
    {
     "data": {
      "text/html": [
       "<div>\n",
       "<style scoped>\n",
       "    .dataframe tbody tr th:only-of-type {\n",
       "        vertical-align: middle;\n",
       "    }\n",
       "\n",
       "    .dataframe tbody tr th {\n",
       "        vertical-align: top;\n",
       "    }\n",
       "\n",
       "    .dataframe thead th {\n",
       "        text-align: right;\n",
       "    }\n",
       "</style>\n",
       "<table border=\"1\" class=\"dataframe\">\n",
       "  <thead>\n",
       "    <tr style=\"text-align: right;\">\n",
       "      <th></th>\n",
       "      <th>Item_ID</th>\n",
       "      <th>Weight</th>\n",
       "      <th>FatContent</th>\n",
       "      <th>Visibility</th>\n",
       "      <th>Category</th>\n",
       "      <th>Max_Price</th>\n",
       "      <th>Store_ID</th>\n",
       "      <th>Store_Establishment_Year</th>\n",
       "      <th>Store_Size</th>\n",
       "      <th>Store_Location_Type</th>\n",
       "      <th>Store_Type</th>\n",
       "      <th>Item_Store_Sales</th>\n",
       "    </tr>\n",
       "  </thead>\n",
       "  <tbody>\n",
       "    <tr>\n",
       "      <th>5660</th>\n",
       "      <td>FDX60</td>\n",
       "      <td>14.350000</td>\n",
       "      <td>Low Fat</td>\n",
       "      <td>0.080922</td>\n",
       "      <td>Baking Goods</td>\n",
       "      <td>80.0960</td>\n",
       "      <td>OUT018</td>\n",
       "      <td>2009</td>\n",
       "      <td>Medium</td>\n",
       "      <td>Tier 3</td>\n",
       "      <td>Supermarket Type2</td>\n",
       "      <td>1278.3360</td>\n",
       "    </tr>\n",
       "    <tr>\n",
       "      <th>6117</th>\n",
       "      <td>FDO39</td>\n",
       "      <td>6.985000</td>\n",
       "      <td>Regular</td>\n",
       "      <td>0.137253</td>\n",
       "      <td>Meat</td>\n",
       "      <td>183.7608</td>\n",
       "      <td>OUT013</td>\n",
       "      <td>1987</td>\n",
       "      <td>High</td>\n",
       "      <td>Tier 3</td>\n",
       "      <td>Supermarket Type1</td>\n",
       "      <td>2940.1728</td>\n",
       "    </tr>\n",
       "    <tr>\n",
       "      <th>7174</th>\n",
       "      <td>FDX27</td>\n",
       "      <td>20.700000</td>\n",
       "      <td>Regular</td>\n",
       "      <td>0.114022</td>\n",
       "      <td>Dairy</td>\n",
       "      <td>92.9436</td>\n",
       "      <td>OUT013</td>\n",
       "      <td>1987</td>\n",
       "      <td>High</td>\n",
       "      <td>Tier 3</td>\n",
       "      <td>Supermarket Type1</td>\n",
       "      <td>2174.5028</td>\n",
       "    </tr>\n",
       "    <tr>\n",
       "      <th>7137</th>\n",
       "      <td>FDZ04</td>\n",
       "      <td>9.310000</td>\n",
       "      <td>Low Fat</td>\n",
       "      <td>0.038032</td>\n",
       "      <td>Frozen Foods</td>\n",
       "      <td>61.3510</td>\n",
       "      <td>OUT045</td>\n",
       "      <td>2002</td>\n",
       "      <td>Unknown</td>\n",
       "      <td>Tier 2</td>\n",
       "      <td>Supermarket Type1</td>\n",
       "      <td>822.2630</td>\n",
       "    </tr>\n",
       "    <tr>\n",
       "      <th>7111</th>\n",
       "      <td>NCJ05</td>\n",
       "      <td>18.700000</td>\n",
       "      <td>Low Fat</td>\n",
       "      <td>0.046080</td>\n",
       "      <td>Health and Hygiene</td>\n",
       "      <td>151.5682</td>\n",
       "      <td>OUT035</td>\n",
       "      <td>2004</td>\n",
       "      <td>Small</td>\n",
       "      <td>Tier 2</td>\n",
       "      <td>Supermarket Type1</td>\n",
       "      <td>1982.0866</td>\n",
       "    </tr>\n",
       "    <tr>\n",
       "      <th>8126</th>\n",
       "      <td>FDC35</td>\n",
       "      <td>7.435000</td>\n",
       "      <td>Low Fat</td>\n",
       "      <td>0.122735</td>\n",
       "      <td>Starchy Foods</td>\n",
       "      <td>205.2638</td>\n",
       "      <td>OUT013</td>\n",
       "      <td>1987</td>\n",
       "      <td>High</td>\n",
       "      <td>Tier 3</td>\n",
       "      <td>Supermarket Type1</td>\n",
       "      <td>3520.0846</td>\n",
       "    </tr>\n",
       "    <tr>\n",
       "      <th>824</th>\n",
       "      <td>FDH40</td>\n",
       "      <td>12.857645</td>\n",
       "      <td>Regular</td>\n",
       "      <td>0.078547</td>\n",
       "      <td>Frozen Foods</td>\n",
       "      <td>79.3276</td>\n",
       "      <td>OUT027</td>\n",
       "      <td>1985</td>\n",
       "      <td>Medium</td>\n",
       "      <td>Tier 3</td>\n",
       "      <td>Supermarket Type3</td>\n",
       "      <td>1380.8692</td>\n",
       "    </tr>\n",
       "    <tr>\n",
       "      <th>6316</th>\n",
       "      <td>FDL24</td>\n",
       "      <td>10.300000</td>\n",
       "      <td>Regular</td>\n",
       "      <td>0.024998</td>\n",
       "      <td>Baking Goods</td>\n",
       "      <td>174.4422</td>\n",
       "      <td>OUT018</td>\n",
       "      <td>2009</td>\n",
       "      <td>Medium</td>\n",
       "      <td>Tier 3</td>\n",
       "      <td>Supermarket Type2</td>\n",
       "      <td>3448.8440</td>\n",
       "    </tr>\n",
       "    <tr>\n",
       "      <th>2100</th>\n",
       "      <td>FDW51</td>\n",
       "      <td>6.155000</td>\n",
       "      <td>Regular</td>\n",
       "      <td>0.095195</td>\n",
       "      <td>Meat</td>\n",
       "      <td>213.9560</td>\n",
       "      <td>OUT017</td>\n",
       "      <td>2007</td>\n",
       "      <td>Unknown</td>\n",
       "      <td>Tier 2</td>\n",
       "      <td>Supermarket Type1</td>\n",
       "      <td>2343.6160</td>\n",
       "    </tr>\n",
       "    <tr>\n",
       "      <th>6864</th>\n",
       "      <td>FDA32</td>\n",
       "      <td>14.000000</td>\n",
       "      <td>Low Fat</td>\n",
       "      <td>0.030155</td>\n",
       "      <td>Fruits and Vegetables</td>\n",
       "      <td>214.7192</td>\n",
       "      <td>OUT045</td>\n",
       "      <td>2002</td>\n",
       "      <td>Unknown</td>\n",
       "      <td>Tier 2</td>\n",
       "      <td>Supermarket Type1</td>\n",
       "      <td>3020.0688</td>\n",
       "    </tr>\n",
       "  </tbody>\n",
       "</table>\n",
       "</div>"
      ],
      "text/plain": [
       "     Item_ID     Weight FatContent  Visibility               Category  \\\n",
       "5660   FDX60  14.350000    Low Fat    0.080922           Baking Goods   \n",
       "6117   FDO39   6.985000    Regular    0.137253                   Meat   \n",
       "7174   FDX27  20.700000    Regular    0.114022                  Dairy   \n",
       "7137   FDZ04   9.310000    Low Fat    0.038032           Frozen Foods   \n",
       "7111   NCJ05  18.700000    Low Fat    0.046080     Health and Hygiene   \n",
       "8126   FDC35   7.435000    Low Fat    0.122735          Starchy Foods   \n",
       "824    FDH40  12.857645    Regular    0.078547           Frozen Foods   \n",
       "6316   FDL24  10.300000    Regular    0.024998           Baking Goods   \n",
       "2100   FDW51   6.155000    Regular    0.095195                   Meat   \n",
       "6864   FDA32  14.000000    Low Fat    0.030155  Fruits and Vegetables   \n",
       "\n",
       "      Max_Price Store_ID  Store_Establishment_Year Store_Size  \\\n",
       "5660    80.0960   OUT018                      2009     Medium   \n",
       "6117   183.7608   OUT013                      1987       High   \n",
       "7174    92.9436   OUT013                      1987       High   \n",
       "7137    61.3510   OUT045                      2002    Unknown   \n",
       "7111   151.5682   OUT035                      2004      Small   \n",
       "8126   205.2638   OUT013                      1987       High   \n",
       "824     79.3276   OUT027                      1985     Medium   \n",
       "6316   174.4422   OUT018                      2009     Medium   \n",
       "2100   213.9560   OUT017                      2007    Unknown   \n",
       "6864   214.7192   OUT045                      2002    Unknown   \n",
       "\n",
       "     Store_Location_Type         Store_Type  Item_Store_Sales  \n",
       "5660              Tier 3  Supermarket Type2         1278.3360  \n",
       "6117              Tier 3  Supermarket Type1         2940.1728  \n",
       "7174              Tier 3  Supermarket Type1         2174.5028  \n",
       "7137              Tier 2  Supermarket Type1          822.2630  \n",
       "7111              Tier 2  Supermarket Type1         1982.0866  \n",
       "8126              Tier 3  Supermarket Type1         3520.0846  \n",
       "824               Tier 3  Supermarket Type3         1380.8692  \n",
       "6316              Tier 3  Supermarket Type2         3448.8440  \n",
       "2100              Tier 2  Supermarket Type1         2343.6160  \n",
       "6864              Tier 2  Supermarket Type1         3020.0688  "
      ]
     },
     "execution_count": 16,
     "metadata": {},
     "output_type": "execute_result"
    }
   ],
   "source": [
    "bundas_train.sample(10)"
   ]
  },
  {
   "cell_type": "code",
   "execution_count": 17,
   "metadata": {},
   "outputs": [
    {
     "data": {
      "text/plain": [
       "array(['Low Fat', 'Regular', 'low fat', 'LF', 'reg'], dtype=object)"
      ]
     },
     "execution_count": 17,
     "metadata": {},
     "output_type": "execute_result"
    }
   ],
   "source": [
    "bundas_train.FatContent.unique()"
   ]
  },
  {
   "cell_type": "markdown",
   "metadata": {},
   "source": [
    "### Fat Content column has multiple values that are semantically the same thing, e.g Regular = reg"
   ]
  },
  {
   "cell_type": "code",
   "execution_count": 18,
   "metadata": {},
   "outputs": [],
   "source": [
    "bundas_train.FatContent.replace('low fat', 'Low Fat', inplace=True)\n",
    "bundas_train.FatContent.replace('LF', 'Low Fat', inplace=True)\n",
    "bundas_train.FatContent.replace('reg', 'Regular', inplace=True)"
   ]
  },
  {
   "cell_type": "code",
   "execution_count": 19,
   "metadata": {},
   "outputs": [
    {
     "data": {
      "text/plain": [
       "array(['Dairy', 'Soft Drinks', 'Meat', 'Fruits and Vegetables',\n",
       "       'Household', 'Baking Goods', 'Snack Foods', 'Frozen Foods',\n",
       "       'Breakfast', 'Health and Hygiene', 'Hard Drinks', 'Canned',\n",
       "       'Breads', 'Starchy Foods', 'Others', 'Seafood'], dtype=object)"
      ]
     },
     "execution_count": 19,
     "metadata": {},
     "output_type": "execute_result"
    }
   ],
   "source": [
    "bundas_train.Category.unique()"
   ]
  },
  {
   "cell_type": "code",
   "execution_count": 20,
   "metadata": {},
   "outputs": [
    {
     "data": {
      "text/plain": [
       "array(['Supermarket Type1', 'Supermarket Type2', 'Grocery Store',\n",
       "       'Supermarket Type3'], dtype=object)"
      ]
     },
     "execution_count": 20,
     "metadata": {},
     "output_type": "execute_result"
    }
   ],
   "source": [
    "bundas_train.Store_Type.unique()"
   ]
  },
  {
   "cell_type": "code",
   "execution_count": 21,
   "metadata": {},
   "outputs": [
    {
     "data": {
      "text/plain": [
       "array(['Tier 1', 'Tier 3', 'Tier 2'], dtype=object)"
      ]
     },
     "execution_count": 21,
     "metadata": {},
     "output_type": "execute_result"
    }
   ],
   "source": [
    "bundas_train.Store_Location_Type.unique()"
   ]
  },
  {
   "cell_type": "code",
   "execution_count": 22,
   "metadata": {},
   "outputs": [
    {
     "data": {
      "text/html": [
       "<div>\n",
       "<style scoped>\n",
       "    .dataframe tbody tr th:only-of-type {\n",
       "        vertical-align: middle;\n",
       "    }\n",
       "\n",
       "    .dataframe tbody tr th {\n",
       "        vertical-align: top;\n",
       "    }\n",
       "\n",
       "    .dataframe thead th {\n",
       "        text-align: right;\n",
       "    }\n",
       "</style>\n",
       "<table border=\"1\" class=\"dataframe\">\n",
       "  <thead>\n",
       "    <tr style=\"text-align: right;\">\n",
       "      <th></th>\n",
       "      <th>Category</th>\n",
       "      <th>Store_Type</th>\n",
       "    </tr>\n",
       "  </thead>\n",
       "  <tbody>\n",
       "    <tr>\n",
       "      <th>3241</th>\n",
       "      <td>Fruits and Vegetables</td>\n",
       "      <td>Supermarket Type1</td>\n",
       "    </tr>\n",
       "    <tr>\n",
       "      <th>10</th>\n",
       "      <td>Fruits and Vegetables</td>\n",
       "      <td>Supermarket Type1</td>\n",
       "    </tr>\n",
       "    <tr>\n",
       "      <th>1173</th>\n",
       "      <td>Fruits and Vegetables</td>\n",
       "      <td>Supermarket Type3</td>\n",
       "    </tr>\n",
       "    <tr>\n",
       "      <th>8149</th>\n",
       "      <td>Snack Foods</td>\n",
       "      <td>Supermarket Type1</td>\n",
       "    </tr>\n",
       "    <tr>\n",
       "      <th>3532</th>\n",
       "      <td>Canned</td>\n",
       "      <td>Supermarket Type1</td>\n",
       "    </tr>\n",
       "    <tr>\n",
       "      <th>8177</th>\n",
       "      <td>Household</td>\n",
       "      <td>Supermarket Type1</td>\n",
       "    </tr>\n",
       "    <tr>\n",
       "      <th>226</th>\n",
       "      <td>Fruits and Vegetables</td>\n",
       "      <td>Supermarket Type1</td>\n",
       "    </tr>\n",
       "    <tr>\n",
       "      <th>160</th>\n",
       "      <td>Snack Foods</td>\n",
       "      <td>Supermarket Type1</td>\n",
       "    </tr>\n",
       "    <tr>\n",
       "      <th>5174</th>\n",
       "      <td>Canned</td>\n",
       "      <td>Supermarket Type2</td>\n",
       "    </tr>\n",
       "    <tr>\n",
       "      <th>1270</th>\n",
       "      <td>Household</td>\n",
       "      <td>Supermarket Type1</td>\n",
       "    </tr>\n",
       "    <tr>\n",
       "      <th>978</th>\n",
       "      <td>Breakfast</td>\n",
       "      <td>Grocery Store</td>\n",
       "    </tr>\n",
       "    <tr>\n",
       "      <th>7816</th>\n",
       "      <td>Snack Foods</td>\n",
       "      <td>Supermarket Type3</td>\n",
       "    </tr>\n",
       "    <tr>\n",
       "      <th>7609</th>\n",
       "      <td>Fruits and Vegetables</td>\n",
       "      <td>Supermarket Type3</td>\n",
       "    </tr>\n",
       "    <tr>\n",
       "      <th>8222</th>\n",
       "      <td>Breakfast</td>\n",
       "      <td>Supermarket Type1</td>\n",
       "    </tr>\n",
       "    <tr>\n",
       "      <th>3652</th>\n",
       "      <td>Canned</td>\n",
       "      <td>Supermarket Type3</td>\n",
       "    </tr>\n",
       "    <tr>\n",
       "      <th>8466</th>\n",
       "      <td>Fruits and Vegetables</td>\n",
       "      <td>Supermarket Type1</td>\n",
       "    </tr>\n",
       "    <tr>\n",
       "      <th>3</th>\n",
       "      <td>Fruits and Vegetables</td>\n",
       "      <td>Grocery Store</td>\n",
       "    </tr>\n",
       "    <tr>\n",
       "      <th>4055</th>\n",
       "      <td>Household</td>\n",
       "      <td>Supermarket Type3</td>\n",
       "    </tr>\n",
       "    <tr>\n",
       "      <th>2919</th>\n",
       "      <td>Snack Foods</td>\n",
       "      <td>Supermarket Type2</td>\n",
       "    </tr>\n",
       "    <tr>\n",
       "      <th>294</th>\n",
       "      <td>Baking Goods</td>\n",
       "      <td>Supermarket Type3</td>\n",
       "    </tr>\n",
       "  </tbody>\n",
       "</table>\n",
       "</div>"
      ],
      "text/plain": [
       "                   Category         Store_Type\n",
       "3241  Fruits and Vegetables  Supermarket Type1\n",
       "10    Fruits and Vegetables  Supermarket Type1\n",
       "1173  Fruits and Vegetables  Supermarket Type3\n",
       "8149            Snack Foods  Supermarket Type1\n",
       "3532                 Canned  Supermarket Type1\n",
       "8177              Household  Supermarket Type1\n",
       "226   Fruits and Vegetables  Supermarket Type1\n",
       "160             Snack Foods  Supermarket Type1\n",
       "5174                 Canned  Supermarket Type2\n",
       "1270              Household  Supermarket Type1\n",
       "978               Breakfast      Grocery Store\n",
       "7816            Snack Foods  Supermarket Type3\n",
       "7609  Fruits and Vegetables  Supermarket Type3\n",
       "8222              Breakfast  Supermarket Type1\n",
       "3652                 Canned  Supermarket Type3\n",
       "8466  Fruits and Vegetables  Supermarket Type1\n",
       "3     Fruits and Vegetables      Grocery Store\n",
       "4055              Household  Supermarket Type3\n",
       "2919            Snack Foods  Supermarket Type2\n",
       "294            Baking Goods  Supermarket Type3"
      ]
     },
     "execution_count": 22,
     "metadata": {},
     "output_type": "execute_result"
    }
   ],
   "source": [
    "bundas_train[['Category', 'Store_Type']].sample(20)"
   ]
  },
  {
   "cell_type": "code",
   "execution_count": 23,
   "metadata": {},
   "outputs": [
    {
     "data": {
      "text/plain": [
       "Index(['Item_ID', 'Weight', 'FatContent', 'Visibility', 'Category',\n",
       "       'Max_Price', 'Store_ID', 'Store_Establishment_Year', 'Store_Size',\n",
       "       'Store_Location_Type', 'Store_Type', 'Item_Store_Sales'],\n",
       "      dtype='object')"
      ]
     },
     "execution_count": 23,
     "metadata": {},
     "output_type": "execute_result"
    }
   ],
   "source": [
    "bundas_train.columns"
   ]
  },
  {
   "cell_type": "code",
   "execution_count": 24,
   "metadata": {},
   "outputs": [],
   "source": [
    "# X = bundas_train.drop(['Item_Store_Sales'], axis=1)\n",
    "# y = bundas_train['Item_Store_Sales']\n",
    "# ordinal_encoder = OrdinalEncoder()\n",
    "# X = ordinal_encoder.fit_transform(X)\n",
    "\n",
    "# f_regression(X, y)"
   ]
  },
  {
   "cell_type": "markdown",
   "metadata": {},
   "source": [
    "# Data Visualization"
   ]
  },
  {
   "cell_type": "code",
   "execution_count": 25,
   "metadata": {},
   "outputs": [
    {
     "data": {
      "image/png": "[encoded data removed]",
      "text/plain": [
       "<Figure size 720x288 with 1 Axes>"
      ]
     },
     "metadata": {
      "needs_background": "light"
     },
     "output_type": "display_data"
    }
   ],
   "source": [
    "stores = bundas_train['Store_ID'].value_counts()\n",
    "\n",
    "plt.figure(figsize=(10,4))\n",
    "sns.barplot(stores.index, stores.values, alpha=0.8)\n",
    "plt.ylabel('Number of Occurrences', fontsize=12)\n",
    "plt.xlabel('Store ID', fontsize=12)\n",
    "plt.title('The Occurrence of each store')\n",
    "plt.show()"
   ]
  },
  {
   "cell_type": "code",
   "execution_count": 26,
   "metadata": {},
   "outputs": [],
   "source": [
    "store1=bundas_train[bundas_train['Store_Type']=='Supermarket Type1']\n",
    "store2=bundas_train[bundas_train['Store_Type']=='Supermarket Type2']\n",
    "store3=bundas_train[bundas_train['Store_Type']=='Grocery Store']\n",
    "store4=bundas_train[bundas_train['Store_Type']=='Supermarket Type3']"
   ]
  },
  {
   "cell_type": "code",
   "execution_count": 27,
   "metadata": {},
   "outputs": [
    {
     "data": {
      "image/png": "[encoded data removed]",
      "text/plain": [
       "<Figure size 1440x720 with 2 Axes>"
      ]
     },
     "metadata": {
      "needs_background": "light"
     },
     "output_type": "display_data"
    }
   ],
   "source": [
    "plt.subplot(231)\n",
    "store1['Category'].value_counts(normalize=True).plot.bar(figsize=(20,10), title= 'Categories in Supermarket Type1', color='b')\n",
    "plt.ylabel('Number of Occurrences', fontsize=12)\n",
    "\n",
    "plt.subplot(232)\n",
    "store2['Category'].value_counts(normalize=True).plot.bar(figsize=(20,10), title= 'Categories in Supermarket Type2', color='b')\n",
    "plt.ylabel('Number of Occurrences', fontsize=12)\n",
    "\n",
    "\n",
    "plt.show()"
   ]
  },
  {
   "cell_type": "code",
   "execution_count": 28,
   "metadata": {},
   "outputs": [
    {
     "data": {
      "image/png": "[encoded data removed]",
      "text/plain": [
       "<Figure size 1440x720 with 2 Axes>"
      ]
     },
     "metadata": {
      "needs_background": "light"
     },
     "output_type": "display_data"
    }
   ],
   "source": [
    "plt.subplot(231)\n",
    "store3['Category'].value_counts(normalize=True).plot.bar(figsize=(20,10), title= 'Categories in Grocery Store', color='b')\n",
    "plt.ylabel('Number of Occurrences', fontsize=12)\n",
    "\n",
    "plt.subplot(232)\n",
    "store4['Category'].value_counts(normalize=True).plot.bar(figsize=(20,10), title= 'Categories in Supermarket Type3', color='b')\n",
    "plt.ylabel('Number of Occurrences', fontsize=12)\n",
    "\n",
    "plt.show()"
   ]
  },
  {
   "cell_type": "code",
   "execution_count": 29,
   "metadata": {},
   "outputs": [
    {
     "data": {
      "image/png": "[encoded data removed]",
      "text/plain": [
       "<Figure size 1440x720 with 2 Axes>"
      ]
     },
     "metadata": {
      "needs_background": "light"
     },
     "output_type": "display_data"
    }
   ],
   "source": [
    "plt.subplot(231)\n",
    "store1['FatContent'].value_counts(normalize=True).plot.bar(title= 'Fat Content types in Supermarket Type1',figsize=(20,10) ,color = 'r')\n",
    "plt.ylabel('Number of Occurrences', fontsize=12)\n",
    "\n",
    "plt.subplot(232)\n",
    "store2['FatContent'].value_counts(normalize=True).plot.bar(title= 'Fat Content types in Supermarket Type2',figsize=(20,10), color = 'r')\n",
    "plt.ylabel('Number of Occurrences', fontsize=12)\n",
    "\n",
    "\n",
    "plt.show()"
   ]
  },
  {
   "cell_type": "code",
   "execution_count": 30,
   "metadata": {
    "scrolled": true
   },
   "outputs": [
    {
     "data": {
      "image/png": "[encoded data removed]",
      "text/plain": [
       "<Figure size 1440x720 with 2 Axes>"
      ]
     },
     "metadata": {
      "needs_background": "light"
     },
     "output_type": "display_data"
    }
   ],
   "source": [
    "plt.subplot(231)\n",
    "store3['FatContent'].value_counts(normalize=True).plot.bar(title= 'Fat Content types in Grocery Store', color = 'r')\n",
    "plt.ylabel('Number of Occurrences', fontsize=12)\n",
    "\n",
    "plt.subplot(232)\n",
    "store4['FatContent'].value_counts(normalize=True).plot.bar(figsize=(20,10), title= 'Fat Content in Supermarket Type3', color='r')\n",
    "plt.ylabel('Number of Occurrences', fontsize=12)\n",
    "plt.show()"
   ]
  },
  {
   "cell_type": "code",
   "execution_count": 31,
   "metadata": {},
   "outputs": [
    {
     "data": {
      "text/plain": [
       "<matplotlib.axes._subplots.AxesSubplot at 0x1c8ffeac588>"
      ]
     },
     "execution_count": 31,
     "metadata": {},
     "output_type": "execute_result"
    },
    {
     "data": {
      "image/png": "[encoded data removed]",
      "text/plain": [
       "<Figure size 1440x720 with 1 Axes>"
      ]
     },
     "metadata": {
      "needs_background": "light"
     },
     "output_type": "display_data"
    }
   ],
   "source": [
    "bundas_train.groupby('Store_ID').agg('sum')[['Max_Price']].plot(kind='bar',figsize=(20,10), fontsize='14', stacked=True,color='b',title= 'Sum of Max price across each store')\n",
    "#plt.xticks(rotation = 90)"
   ]
  },
  {
   "cell_type": "code",
   "execution_count": 32,
   "metadata": {},
   "outputs": [
    {
     "data": {
      "text/plain": [
       "<matplotlib.axes._subplots.AxesSubplot at 0x1c8fffb7358>"
      ]
     },
     "execution_count": 32,
     "metadata": {},
     "output_type": "execute_result"
    },
    {
     "data": {
      "image/png": "[encoded data removed]",
      "text/plain": [
       "<Figure size 1440x720 with 1 Axes>"
      ]
     },
     "metadata": {
      "needs_background": "light"
     },
     "output_type": "display_data"
    }
   ],
   "source": [
    "bundas_train.groupby('Store_ID').agg('mean')[['Visibility']].plot(kind='bar',figsize=(20,10), fontsize='14', stacked=True,color='pink',title=\"Mean Visibility across each store\")"
   ]
  },
  {
   "cell_type": "code",
   "execution_count": 33,
   "metadata": {},
   "outputs": [
    {
     "data": {
      "text/plain": [
       "<matplotlib.axes._subplots.AxesSubplot at 0x1c8ffb2c780>"
      ]
     },
     "execution_count": 33,
     "metadata": {},
     "output_type": "execute_result"
    },
    {
     "data": {
      "image/png": "[encoded data removed]",
      "text/plain": [
       "<Figure size 1440x720 with 1 Axes>"
      ]
     },
     "metadata": {
      "needs_background": "light"
     },
     "output_type": "display_data"
    }
   ],
   "source": [
    "bundas_train.groupby('Store_ID').agg('mean')[['Weight']].plot(kind='bar',figsize=(20,10), fontsize='14', stacked=True,color='c',title=\"Mean Weight across each store\")\n"
   ]
  },
  {
   "cell_type": "code",
   "execution_count": 34,
   "metadata": {
    "scrolled": true
   },
   "outputs": [
    {
     "data": {
      "image/png": "[encoded data removed]",
      "text/plain": [
       "<Figure size 864x288 with 1 Axes>"
      ]
     },
     "metadata": {
      "needs_background": "light"
     },
     "output_type": "display_data"
    }
   ],
   "source": [
    "types = bundas_train['Category'].value_counts()\n",
    "\n",
    "plt.figure(figsize=(12,4))\n",
    "sns.barplot(types.index, types.values, alpha=0.8)\n",
    "plt.ylabel('Number of Occurrences', fontsize=12)\n",
    "plt.xlabel('Types', fontsize=12)\n",
    "plt.xticks(rotation = 90)\n",
    "plt.show()"
   ]
  },
  {
   "cell_type": "code",
   "execution_count": 35,
   "metadata": {},
   "outputs": [
    {
     "data": {
      "image/png": "[encoded data removed]",
      "text/plain": [
       "<Figure size 864x288 with 1 Axes>"
      ]
     },
     "metadata": {
      "needs_background": "light"
     },
     "output_type": "display_data"
    }
   ],
   "source": [
    "fat = bundas_train['FatContent'].value_counts()\n",
    "\n",
    "plt.figure(figsize=(12,4))\n",
    "sns.barplot(fat.index, fat.values, alpha=0.8)\n",
    "plt.ylabel('Number of Occurrences', fontsize=12)\n",
    "plt.xlabel('Fat content', fontsize=12)\n",
    "plt.xticks(rotation = 90)\n",
    "plt.show()"
   ]
  },
  {
   "cell_type": "code",
   "execution_count": 36,
   "metadata": {},
   "outputs": [
    {
     "data": {
      "text/html": [
       "<div>\n",
       "<style scoped>\n",
       "    .dataframe tbody tr th:only-of-type {\n",
       "        vertical-align: middle;\n",
       "    }\n",
       "\n",
       "    .dataframe tbody tr th {\n",
       "        vertical-align: top;\n",
       "    }\n",
       "\n",
       "    .dataframe thead th {\n",
       "        text-align: right;\n",
       "    }\n",
       "</style>\n",
       "<table border=\"1\" class=\"dataframe\">\n",
       "  <thead>\n",
       "    <tr style=\"text-align: right;\">\n",
       "      <th></th>\n",
       "      <th>Weight</th>\n",
       "      <th>Visibility</th>\n",
       "      <th>Max_Price</th>\n",
       "    </tr>\n",
       "  </thead>\n",
       "  <tbody>\n",
       "    <tr>\n",
       "      <th>Weight</th>\n",
       "      <td>1.000000</td>\n",
       "      <td>-0.012049</td>\n",
       "      <td>0.024756</td>\n",
       "    </tr>\n",
       "    <tr>\n",
       "      <th>Visibility</th>\n",
       "      <td>-0.012049</td>\n",
       "      <td>1.000000</td>\n",
       "      <td>-0.001315</td>\n",
       "    </tr>\n",
       "    <tr>\n",
       "      <th>Max_Price</th>\n",
       "      <td>0.024756</td>\n",
       "      <td>-0.001315</td>\n",
       "      <td>1.000000</td>\n",
       "    </tr>\n",
       "  </tbody>\n",
       "</table>\n",
       "</div>"
      ],
      "text/plain": [
       "              Weight  Visibility  Max_Price\n",
       "Weight      1.000000   -0.012049   0.024756\n",
       "Visibility -0.012049    1.000000  -0.001315\n",
       "Max_Price   0.024756   -0.001315   1.000000"
      ]
     },
     "execution_count": 36,
     "metadata": {},
     "output_type": "execute_result"
    }
   ],
   "source": [
    "data=bundas_train[['Weight','Visibility','Max_Price']]\n",
    "data.corr()"
   ]
  },
  {
   "cell_type": "code",
   "execution_count": 37,
   "metadata": {},
   "outputs": [
    {
     "data": {
      "image/png": "[encoded data removed]",
      "text/plain": [
       "<Figure size 432x288 with 2 Axes>"
      ]
     },
     "metadata": {
      "needs_background": "light"
     },
     "output_type": "display_data"
    }
   ],
   "source": [
    "sns.heatmap(data.corr())\n",
    "plt.title('Correlations')\n",
    "plt.rcParams['figure.figsize']=(20,8)\n",
    "plt.show()"
   ]
  },
  {
   "cell_type": "markdown",
   "metadata": {},
   "source": [
    "## Feature Engineering"
   ]
  },
  {
   "cell_type": "markdown",
   "metadata": {},
   "source": [
    "### Some columns are meaningless in this analysis so they will be dropped. We will also separate the features from the target variable"
   ]
  },
  {
   "cell_type": "code",
   "execution_count": 38,
   "metadata": {},
   "outputs": [],
   "source": [
    "X_train = bundas_train.drop(['Item_ID', 'Weight', 'Store_Establishment_Year', 'Store_ID', 'Item_Store_Sales'],axis=1)\n",
    "y_train = bundas_train['Item_Store_Sales']"
   ]
  },
  {
   "cell_type": "markdown",
   "metadata": {},
   "source": [
    "### Now we need to encode the categorical variables"
   ]
  },
  {
   "cell_type": "code",
   "execution_count": 39,
   "metadata": {
    "scrolled": true
   },
   "outputs": [
    {
     "data": {
      "text/plain": [
       "Index(['Visibility', 'Max_Price', 'FatContent_Low Fat', 'FatContent_Regular',\n",
       "       'Category_Baking Goods', 'Category_Breads', 'Category_Breakfast',\n",
       "       'Category_Canned', 'Category_Dairy', 'Category_Frozen Foods',\n",
       "       'Category_Fruits and Vegetables', 'Category_Hard Drinks',\n",
       "       'Category_Health and Hygiene', 'Category_Household', 'Category_Meat',\n",
       "       'Category_Others', 'Category_Seafood', 'Category_Snack Foods',\n",
       "       'Category_Soft Drinks', 'Category_Starchy Foods', 'Store_Size_High',\n",
       "       'Store_Size_Medium', 'Store_Size_Small', 'Store_Size_Unknown',\n",
       "       'Store_Location_Type_Tier 1', 'Store_Location_Type_Tier 2',\n",
       "       'Store_Location_Type_Tier 3', 'Store_Type_Grocery Store',\n",
       "       'Store_Type_Supermarket Type1', 'Store_Type_Supermarket Type2',\n",
       "       'Store_Type_Supermarket Type3'],\n",
       "      dtype='object')"
      ]
     },
     "execution_count": 39,
     "metadata": {},
     "output_type": "execute_result"
    }
   ],
   "source": [
    "# one_hot_encoder = OneHotEncoder(sparse=False)\n",
    "# encoded_fat_content = one_hot_encoder.fit_transform(X_train[[\"FatContent\"]])\n",
    "# encoded_category = one_hot_encoder.fit_transform(X_train[[\"Category\"]])\n",
    "# encoded_store_size = one_hot_encoder.fit_transform(X_train[[\"Store_Size\"]])\n",
    "# encoded_store_location_type = one_hot_encoder.fit_transform(X_train[[\"Store_Location_Type\"]])\n",
    "# encoded_store_type = one_hot_encoder.fit_transform(X_train[[\"Store_Type\"]])\n",
    "X_train_features = pd.get_dummies(X_train)\n",
    "X_train_features.columns"
   ]
  },
  {
   "cell_type": "markdown",
   "metadata": {},
   "source": [
    "### Now we need to split the data into training and validation sets. The validation set will be used to evaluate the performance of the model."
   ]
  },
  {
   "cell_type": "code",
   "execution_count": 40,
   "metadata": {},
   "outputs": [],
   "source": [
    "X_train_final, X_validation, y_train_final, y_validation = train_test_split(X_train_features, y_train.to_numpy(), test_size=0.3)"
   ]
  },
  {
   "cell_type": "code",
   "execution_count": 41,
   "metadata": {},
   "outputs": [
    {
     "data": {
      "text/html": [
       "<div>\n",
       "<style scoped>\n",
       "    .dataframe tbody tr th:only-of-type {\n",
       "        vertical-align: middle;\n",
       "    }\n",
       "\n",
       "    .dataframe tbody tr th {\n",
       "        vertical-align: top;\n",
       "    }\n",
       "\n",
       "    .dataframe thead th {\n",
       "        text-align: right;\n",
       "    }\n",
       "</style>\n",
       "<table border=\"1\" class=\"dataframe\">\n",
       "  <thead>\n",
       "    <tr style=\"text-align: right;\">\n",
       "      <th></th>\n",
       "      <th>Visibility</th>\n",
       "      <th>Max_Price</th>\n",
       "      <th>FatContent_Low Fat</th>\n",
       "      <th>FatContent_Regular</th>\n",
       "      <th>Category_Baking Goods</th>\n",
       "      <th>Category_Breads</th>\n",
       "      <th>Category_Breakfast</th>\n",
       "      <th>Category_Canned</th>\n",
       "      <th>Category_Dairy</th>\n",
       "      <th>Category_Frozen Foods</th>\n",
       "      <th>...</th>\n",
       "      <th>Store_Size_Medium</th>\n",
       "      <th>Store_Size_Small</th>\n",
       "      <th>Store_Size_Unknown</th>\n",
       "      <th>Store_Location_Type_Tier 1</th>\n",
       "      <th>Store_Location_Type_Tier 2</th>\n",
       "      <th>Store_Location_Type_Tier 3</th>\n",
       "      <th>Store_Type_Grocery Store</th>\n",
       "      <th>Store_Type_Supermarket Type1</th>\n",
       "      <th>Store_Type_Supermarket Type2</th>\n",
       "      <th>Store_Type_Supermarket Type3</th>\n",
       "    </tr>\n",
       "  </thead>\n",
       "  <tbody>\n",
       "    <tr>\n",
       "      <th>1930</th>\n",
       "      <td>0.030769</td>\n",
       "      <td>141.7154</td>\n",
       "      <td>1</td>\n",
       "      <td>0</td>\n",
       "      <td>0</td>\n",
       "      <td>0</td>\n",
       "      <td>0</td>\n",
       "      <td>0</td>\n",
       "      <td>0</td>\n",
       "      <td>0</td>\n",
       "      <td>...</td>\n",
       "      <td>0</td>\n",
       "      <td>0</td>\n",
       "      <td>0</td>\n",
       "      <td>0</td>\n",
       "      <td>0</td>\n",
       "      <td>1</td>\n",
       "      <td>0</td>\n",
       "      <td>1</td>\n",
       "      <td>0</td>\n",
       "      <td>0</td>\n",
       "    </tr>\n",
       "    <tr>\n",
       "      <th>5636</th>\n",
       "      <td>0.195721</td>\n",
       "      <td>156.4630</td>\n",
       "      <td>1</td>\n",
       "      <td>0</td>\n",
       "      <td>0</td>\n",
       "      <td>0</td>\n",
       "      <td>0</td>\n",
       "      <td>0</td>\n",
       "      <td>0</td>\n",
       "      <td>0</td>\n",
       "      <td>...</td>\n",
       "      <td>0</td>\n",
       "      <td>0</td>\n",
       "      <td>1</td>\n",
       "      <td>0</td>\n",
       "      <td>0</td>\n",
       "      <td>1</td>\n",
       "      <td>1</td>\n",
       "      <td>0</td>\n",
       "      <td>0</td>\n",
       "      <td>0</td>\n",
       "    </tr>\n",
       "    <tr>\n",
       "      <th>8139</th>\n",
       "      <td>0.115032</td>\n",
       "      <td>114.1202</td>\n",
       "      <td>0</td>\n",
       "      <td>1</td>\n",
       "      <td>0</td>\n",
       "      <td>0</td>\n",
       "      <td>0</td>\n",
       "      <td>1</td>\n",
       "      <td>0</td>\n",
       "      <td>0</td>\n",
       "      <td>...</td>\n",
       "      <td>1</td>\n",
       "      <td>0</td>\n",
       "      <td>0</td>\n",
       "      <td>0</td>\n",
       "      <td>0</td>\n",
       "      <td>1</td>\n",
       "      <td>0</td>\n",
       "      <td>0</td>\n",
       "      <td>1</td>\n",
       "      <td>0</td>\n",
       "    </tr>\n",
       "    <tr>\n",
       "      <th>4812</th>\n",
       "      <td>0.028062</td>\n",
       "      <td>44.0402</td>\n",
       "      <td>0</td>\n",
       "      <td>1</td>\n",
       "      <td>0</td>\n",
       "      <td>1</td>\n",
       "      <td>0</td>\n",
       "      <td>0</td>\n",
       "      <td>0</td>\n",
       "      <td>0</td>\n",
       "      <td>...</td>\n",
       "      <td>0</td>\n",
       "      <td>1</td>\n",
       "      <td>0</td>\n",
       "      <td>1</td>\n",
       "      <td>0</td>\n",
       "      <td>0</td>\n",
       "      <td>1</td>\n",
       "      <td>0</td>\n",
       "      <td>0</td>\n",
       "      <td>0</td>\n",
       "    </tr>\n",
       "    <tr>\n",
       "      <th>4039</th>\n",
       "      <td>0.125943</td>\n",
       "      <td>176.0028</td>\n",
       "      <td>0</td>\n",
       "      <td>1</td>\n",
       "      <td>0</td>\n",
       "      <td>0</td>\n",
       "      <td>0</td>\n",
       "      <td>0</td>\n",
       "      <td>0</td>\n",
       "      <td>0</td>\n",
       "      <td>...</td>\n",
       "      <td>0</td>\n",
       "      <td>0</td>\n",
       "      <td>1</td>\n",
       "      <td>0</td>\n",
       "      <td>1</td>\n",
       "      <td>0</td>\n",
       "      <td>0</td>\n",
       "      <td>1</td>\n",
       "      <td>0</td>\n",
       "      <td>0</td>\n",
       "    </tr>\n",
       "  </tbody>\n",
       "</table>\n",
       "<p>5 rows × 31 columns</p>\n",
       "</div>"
      ],
      "text/plain": [
       "      Visibility  Max_Price  FatContent_Low Fat  FatContent_Regular  \\\n",
       "1930    0.030769   141.7154                   1                   0   \n",
       "5636    0.195721   156.4630                   1                   0   \n",
       "8139    0.115032   114.1202                   0                   1   \n",
       "4812    0.028062    44.0402                   0                   1   \n",
       "4039    0.125943   176.0028                   0                   1   \n",
       "\n",
       "      Category_Baking Goods  Category_Breads  Category_Breakfast  \\\n",
       "1930                      0                0                   0   \n",
       "5636                      0                0                   0   \n",
       "8139                      0                0                   0   \n",
       "4812                      0                1                   0   \n",
       "4039                      0                0                   0   \n",
       "\n",
       "      Category_Canned  Category_Dairy  Category_Frozen Foods  ...  \\\n",
       "1930                0               0                      0  ...   \n",
       "5636                0               0                      0  ...   \n",
       "8139                1               0                      0  ...   \n",
       "4812                0               0                      0  ...   \n",
       "4039                0               0                      0  ...   \n",
       "\n",
       "      Store_Size_Medium  Store_Size_Small  Store_Size_Unknown  \\\n",
       "1930                  0                 0                   0   \n",
       "5636                  0                 0                   1   \n",
       "8139                  1                 0                   0   \n",
       "4812                  0                 1                   0   \n",
       "4039                  0                 0                   1   \n",
       "\n",
       "      Store_Location_Type_Tier 1  Store_Location_Type_Tier 2  \\\n",
       "1930                           0                           0   \n",
       "5636                           0                           0   \n",
       "8139                           0                           0   \n",
       "4812                           1                           0   \n",
       "4039                           0                           1   \n",
       "\n",
       "      Store_Location_Type_Tier 3  Store_Type_Grocery Store  \\\n",
       "1930                           1                         0   \n",
       "5636                           1                         1   \n",
       "8139                           1                         0   \n",
       "4812                           0                         1   \n",
       "4039                           0                         0   \n",
       "\n",
       "      Store_Type_Supermarket Type1  Store_Type_Supermarket Type2  \\\n",
       "1930                             1                             0   \n",
       "5636                             0                             0   \n",
       "8139                             0                             1   \n",
       "4812                             0                             0   \n",
       "4039                             1                             0   \n",
       "\n",
       "      Store_Type_Supermarket Type3  \n",
       "1930                             0  \n",
       "5636                             0  \n",
       "8139                             0  \n",
       "4812                             0  \n",
       "4039                             0  \n",
       "\n",
       "[5 rows x 31 columns]"
      ]
     },
     "execution_count": 41,
     "metadata": {},
     "output_type": "execute_result"
    }
   ],
   "source": [
    "X_train_final.head()"
   ]
  },
  {
   "cell_type": "code",
   "execution_count": 42,
   "metadata": {},
   "outputs": [
    {
     "data": {
      "text/plain": [
       "(2557, 31)"
      ]
     },
     "execution_count": 42,
     "metadata": {},
     "output_type": "execute_result"
    }
   ],
   "source": [
    "X_validation.shape"
   ]
  },
  {
   "cell_type": "markdown",
   "metadata": {},
   "source": [
    "## Model"
   ]
  },
  {
   "cell_type": "markdown",
   "metadata": {},
   "source": [
    "### A multiple linear regression model was the model of choice for this study."
   ]
  },
  {
   "cell_type": "code",
   "execution_count": 43,
   "metadata": {},
   "outputs": [
    {
     "data": {
      "text/plain": [
       "-142.6713004919916"
      ]
     },
     "execution_count": 43,
     "metadata": {},
     "output_type": "execute_result"
    }
   ],
   "source": [
    "model = linear_model.LinearRegression()\n",
    "model.fit(X = X_train_final, y = y_train_final)\n",
    "model.intercept_"
   ]
  },
  {
   "cell_type": "code",
   "execution_count": 44,
   "metadata": {},
   "outputs": [
    {
     "data": {
      "text/plain": [
       "array([-1.34263423e+02,  1.57193544e+01, -2.90968189e+01,  2.90968189e+01,\n",
       "       -3.41863887e+01,  9.68047674e-01,  3.18010047e+01, -1.12529618e+01,\n",
       "       -6.84983868e+01, -5.75410030e+01,  9.55591403e+00, -4.49566734e+01,\n",
       "       -2.16085659e+01, -1.18626310e+02, -5.79903789e+01,  7.63072803e+00,\n",
       "        2.73341803e+02,  1.52943315e+01,  6.78072720e+01,  8.26156809e+00,\n",
       "       -4.31362843e+01,  9.23291184e+01,  2.16177661e+01, -7.08106001e+01,\n",
       "       -8.12698322e+01,  3.48651534e+01,  4.64046788e+01, -1.61805632e+03,\n",
       "        2.81298636e+02, -1.93910954e+02,  1.53066864e+03])"
      ]
     },
     "execution_count": 44,
     "metadata": {},
     "output_type": "execute_result"
    }
   ],
   "source": [
    "model.coef_"
   ]
  },
  {
   "cell_type": "code",
   "execution_count": 45,
   "metadata": {},
   "outputs": [
    {
     "data": {
      "text/plain": [
       "0.5630526829125158"
      ]
     },
     "execution_count": 45,
     "metadata": {},
     "output_type": "execute_result"
    }
   ],
   "source": [
    "y_pred = model.predict(X_validation)\n",
    "r2_score(y_validation, y_pred)"
   ]
  },
  {
   "cell_type": "markdown",
   "metadata": {},
   "source": [
    "### The coefficient of determination was around 0.55 which means that there is plenty of room for improvement in the model. Perhaps the feature selection needs to be more strict"
   ]
  },
  {
   "cell_type": "code",
   "execution_count": 46,
   "metadata": {},
   "outputs": [
    {
     "name": "stdout",
     "output_type": "stream",
     "text": [
      "(5681, 11)\n"
     ]
    },
    {
     "data": {
      "text/plain": [
       "Item_ID                     False\n",
       "Weight                      False\n",
       "FatContent                  False\n",
       "Visibility                  False\n",
       "Category                    False\n",
       "Max_Price                   False\n",
       "Store_ID                    False\n",
       "Store_Establishment_Year    False\n",
       "Store_Size                  False\n",
       "Store_Location_Type         False\n",
       "Store_Type                  False\n",
       "dtype: bool"
      ]
     },
     "execution_count": 46,
     "metadata": {},
     "output_type": "execute_result"
    }
   ],
   "source": [
    "bundas_test = pd.read_csv('bundas_test.csv')\n",
    "print(bundas_test.shape)\n",
    "bundas_test.isnull().any()\n",
    "bundas_test['Store_Size'] = bundas_test.Store_Size.fillna('Unknown')\n",
    "bundas_test[['Weight']] = bundas_test.Weight.fillna(float(weight.mean()))\n",
    "bundas_test.isnull().any()"
   ]
  },
  {
   "cell_type": "code",
   "execution_count": 47,
   "metadata": {},
   "outputs": [
    {
     "data": {
      "text/plain": [
       "array(['Low Fat', 'reg', 'Regular', 'LF', 'low fat'], dtype=object)"
      ]
     },
     "execution_count": 47,
     "metadata": {},
     "output_type": "execute_result"
    }
   ],
   "source": [
    "bundas_test['FatContent'].unique()"
   ]
  },
  {
   "cell_type": "code",
   "execution_count": 48,
   "metadata": {
    "scrolled": true
   },
   "outputs": [
    {
     "data": {
      "text/html": [
       "<div>\n",
       "<style scoped>\n",
       "    .dataframe tbody tr th:only-of-type {\n",
       "        vertical-align: middle;\n",
       "    }\n",
       "\n",
       "    .dataframe tbody tr th {\n",
       "        vertical-align: top;\n",
       "    }\n",
       "\n",
       "    .dataframe thead th {\n",
       "        text-align: right;\n",
       "    }\n",
       "</style>\n",
       "<table border=\"1\" class=\"dataframe\">\n",
       "  <thead>\n",
       "    <tr style=\"text-align: right;\">\n",
       "      <th></th>\n",
       "      <th>Item_ID</th>\n",
       "      <th>Weight</th>\n",
       "      <th>FatContent</th>\n",
       "      <th>Visibility</th>\n",
       "      <th>Category</th>\n",
       "      <th>Max_Price</th>\n",
       "      <th>Store_ID</th>\n",
       "      <th>Store_Establishment_Year</th>\n",
       "      <th>Store_Size</th>\n",
       "      <th>Store_Location_Type</th>\n",
       "      <th>Store_Type</th>\n",
       "    </tr>\n",
       "  </thead>\n",
       "  <tbody>\n",
       "    <tr>\n",
       "      <th>0</th>\n",
       "      <td>FDW58</td>\n",
       "      <td>20.750000</td>\n",
       "      <td>Low Fat</td>\n",
       "      <td>0.007565</td>\n",
       "      <td>Snack Foods</td>\n",
       "      <td>107.8622</td>\n",
       "      <td>OUT049</td>\n",
       "      <td>1999</td>\n",
       "      <td>Medium</td>\n",
       "      <td>Tier 1</td>\n",
       "      <td>Supermarket Type1</td>\n",
       "    </tr>\n",
       "    <tr>\n",
       "      <th>1</th>\n",
       "      <td>FDW14</td>\n",
       "      <td>8.300000</td>\n",
       "      <td>Regular</td>\n",
       "      <td>0.038428</td>\n",
       "      <td>Dairy</td>\n",
       "      <td>87.3198</td>\n",
       "      <td>OUT017</td>\n",
       "      <td>2007</td>\n",
       "      <td>Unknown</td>\n",
       "      <td>Tier 2</td>\n",
       "      <td>Supermarket Type1</td>\n",
       "    </tr>\n",
       "    <tr>\n",
       "      <th>2</th>\n",
       "      <td>NCN55</td>\n",
       "      <td>14.600000</td>\n",
       "      <td>Low Fat</td>\n",
       "      <td>0.099575</td>\n",
       "      <td>Others</td>\n",
       "      <td>241.7538</td>\n",
       "      <td>OUT010</td>\n",
       "      <td>1998</td>\n",
       "      <td>Unknown</td>\n",
       "      <td>Tier 3</td>\n",
       "      <td>Grocery Store</td>\n",
       "    </tr>\n",
       "    <tr>\n",
       "      <th>3</th>\n",
       "      <td>FDQ58</td>\n",
       "      <td>7.315000</td>\n",
       "      <td>Low Fat</td>\n",
       "      <td>0.015388</td>\n",
       "      <td>Snack Foods</td>\n",
       "      <td>155.0340</td>\n",
       "      <td>OUT017</td>\n",
       "      <td>2007</td>\n",
       "      <td>Unknown</td>\n",
       "      <td>Tier 2</td>\n",
       "      <td>Supermarket Type1</td>\n",
       "    </tr>\n",
       "    <tr>\n",
       "      <th>4</th>\n",
       "      <td>FDY38</td>\n",
       "      <td>12.857645</td>\n",
       "      <td>Regular</td>\n",
       "      <td>0.118599</td>\n",
       "      <td>Dairy</td>\n",
       "      <td>234.2300</td>\n",
       "      <td>OUT027</td>\n",
       "      <td>1985</td>\n",
       "      <td>Medium</td>\n",
       "      <td>Tier 3</td>\n",
       "      <td>Supermarket Type3</td>\n",
       "    </tr>\n",
       "  </tbody>\n",
       "</table>\n",
       "</div>"
      ],
      "text/plain": [
       "  Item_ID     Weight FatContent  Visibility     Category  Max_Price Store_ID  \\\n",
       "0   FDW58  20.750000    Low Fat    0.007565  Snack Foods   107.8622   OUT049   \n",
       "1   FDW14   8.300000    Regular    0.038428        Dairy    87.3198   OUT017   \n",
       "2   NCN55  14.600000    Low Fat    0.099575       Others   241.7538   OUT010   \n",
       "3   FDQ58   7.315000    Low Fat    0.015388  Snack Foods   155.0340   OUT017   \n",
       "4   FDY38  12.857645    Regular    0.118599        Dairy   234.2300   OUT027   \n",
       "\n",
       "   Store_Establishment_Year Store_Size Store_Location_Type         Store_Type  \n",
       "0                      1999     Medium              Tier 1  Supermarket Type1  \n",
       "1                      2007    Unknown              Tier 2  Supermarket Type1  \n",
       "2                      1998    Unknown              Tier 3      Grocery Store  \n",
       "3                      2007    Unknown              Tier 2  Supermarket Type1  \n",
       "4                      1985     Medium              Tier 3  Supermarket Type3  "
      ]
     },
     "execution_count": 48,
     "metadata": {},
     "output_type": "execute_result"
    }
   ],
   "source": [
    "bundas_test.FatContent.replace('low fat', 'Low Fat', inplace=True)\n",
    "bundas_test.FatContent.replace('LF', 'Low Fat', inplace=True)\n",
    "bundas_test.FatContent.replace('reg', 'Regular', inplace=True)\n",
    "bundas_test.head()"
   ]
  },
  {
   "cell_type": "markdown",
   "metadata": {},
   "source": [
    "### A sample of the sales predictions for the test data are shown below"
   ]
  },
  {
   "cell_type": "code",
   "execution_count": 49,
   "metadata": {},
   "outputs": [
    {
     "data": {
      "text/html": [
       "<div>\n",
       "<style scoped>\n",
       "    .dataframe tbody tr th:only-of-type {\n",
       "        vertical-align: middle;\n",
       "    }\n",
       "\n",
       "    .dataframe tbody tr th {\n",
       "        vertical-align: top;\n",
       "    }\n",
       "\n",
       "    .dataframe thead th {\n",
       "        text-align: right;\n",
       "    }\n",
       "</style>\n",
       "<table border=\"1\" class=\"dataframe\">\n",
       "  <thead>\n",
       "    <tr style=\"text-align: right;\">\n",
       "      <th></th>\n",
       "      <th>0</th>\n",
       "    </tr>\n",
       "  </thead>\n",
       "  <tbody>\n",
       "    <tr>\n",
       "      <th>0</th>\n",
       "      <td>1830.392607</td>\n",
       "    </tr>\n",
       "    <tr>\n",
       "      <th>1</th>\n",
       "      <td>1430.731776</td>\n",
       "    </tr>\n",
       "    <tr>\n",
       "      <th>2</th>\n",
       "      <td>1980.244771</td>\n",
       "    </tr>\n",
       "    <tr>\n",
       "      <th>3</th>\n",
       "      <td>2523.847700</td>\n",
       "    </tr>\n",
       "    <tr>\n",
       "      <th>4</th>\n",
       "      <td>5153.350407</td>\n",
       "    </tr>\n",
       "    <tr>\n",
       "      <th>5</th>\n",
       "      <td>1950.569484</td>\n",
       "    </tr>\n",
       "    <tr>\n",
       "      <th>6</th>\n",
       "      <td>573.564711</td>\n",
       "    </tr>\n",
       "    <tr>\n",
       "      <th>7</th>\n",
       "      <td>2735.527209</td>\n",
       "    </tr>\n",
       "    <tr>\n",
       "      <th>8</th>\n",
       "      <td>1635.537157</td>\n",
       "    </tr>\n",
       "    <tr>\n",
       "      <th>9</th>\n",
       "      <td>2976.461469</td>\n",
       "    </tr>\n",
       "  </tbody>\n",
       "</table>\n",
       "</div>"
      ],
      "text/plain": [
       "             0\n",
       "0  1830.392607\n",
       "1  1430.731776\n",
       "2  1980.244771\n",
       "3  2523.847700\n",
       "4  5153.350407\n",
       "5  1950.569484\n",
       "6   573.564711\n",
       "7  2735.527209\n",
       "8  1635.537157\n",
       "9  2976.461469"
      ]
     },
     "execution_count": 49,
     "metadata": {},
     "output_type": "execute_result"
    }
   ],
   "source": [
    "X_test = bundas_test.drop(['Weight', 'Store_Establishment_Year', 'Store_ID', 'Item_ID'],axis=1)\n",
    "X_test_features = pd.get_dummies(X_test)\n",
    "y_test_pred = model.predict(X_test_features)\n",
    "pd.DataFrame(y_test_pred).head(10)"
   ]
  },
  {
   "cell_type": "markdown",
   "metadata": {},
   "source": [
    "### bundas.herokuapp.com - This is the link to a simple web application to make predictions with the above model."
   ]
  }
 ],
 "metadata": {
  "kernelspec": {
   "display_name": "Python 3",
   "language": "python",
   "name": "python3"
  },
  "language_info": {
   "codemirror_mode": {
    "name": "ipython",
    "version": 3
   },
   "file_extension": ".py",
   "mimetype": "text/x-python",
   "name": "python",
   "nbconvert_exporter": "python",
   "pygments_lexer": "ipython3",
   "version": "3.7.0"
  }
 },
 "nbformat": 4,
 "nbformat_minor": 2
}
